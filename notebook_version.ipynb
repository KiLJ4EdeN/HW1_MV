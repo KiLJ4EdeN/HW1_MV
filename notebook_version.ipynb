{
 "cells": [
  {
   "cell_type": "code",
   "execution_count": 1,
   "metadata": {},
   "outputs": [],
   "source": [
    "import cv2\n",
    "import matplotlib.pyplot as plt\n",
    "from utils import print_image_metrics\n",
    "from snr import ImageSNR, add_gaussian_noise\n",
    "from canny import threshold, hysteresis, get_image_gradients, non_max_suppression\n",
    "\n",
    "### GLOBALS ###\n",
    "IMAGE_PATH = './shape256.jpg'\n",
    "DESIRED_SNR = 6 # dB\n",
    "KERNEL_SIZE = 3\n",
    "SIGMA = 2\n",
    "SMOOTH = True"
   ]
  },
  {
   "cell_type": "code",
   "execution_count": 3,
   "metadata": {},
   "outputs": [
    {
     "name": "stdout",
     "output_type": "stream",
     "text": [
      "Image Shape: (256, 256)\n",
      "Image Min: 3\n",
      "Image Max: 255\n",
      "Unique Pixel Values: 239\n"
     ]
    }
   ],
   "source": [
    "# Load image\n",
    "img = cv2.imread(IMAGE_PATH, cv2.IMREAD_UNCHANGED)\n",
    "# print some metrics\n",
    "print_image_metrics(img)\n"
   ]
  },
  {
   "cell_type": "code",
   "execution_count": null,
   "metadata": {},
   "outputs": [],
   "source": [
    "\n",
    "\n",
    "def main(image_path):\n",
    "\n",
    "    # (Q1) show the image\n",
    "    # cv2.imshow('image', img)\n",
    "    # cv2.waitKey(0)\n",
    "    # cv2.destroyAllWindows()\n",
    "    # SNR\n",
    "    # (Q2) add noise to the image\n",
    "    image_snr = ImageSNR()\n",
    "    noise_sigma = image_snr.get_sigma(img, DESIRED_SNR)\n",
    "    print(f'Sigma Value is: {noise_sigma}')\n",
    "    # should be 6dB now\n",
    "    snr_val = image_snr.get_snr(img, noise_sigma)\n",
    "    print(f'SNR Value is: {snr_val}')\n",
    "    # create the noisy image now\n",
    "    print('Adding Gaussian Noise..')\n",
    "    noisy_image = add_gaussian_noise(img, noise_sigma)\n",
    "    cv2.imwrite('noisy_image.jpg', noisy_image)\n",
    "    # (Q3) show sobel gradients\n",
    "    print('Getting Sobel Gradients, Magnitude and Orientation..')\n",
    "    sobelx_abs, sobely_abs, magnitude, orientation = get_image_gradients(noisy_image, ksize=KERNEL_SIZE, sigma=SIGMA, smooth=SMOOTH,\n",
    "                                                                         abs=True)\n",
    "    # TODO: change to cv2 imshow outside server\n",
    "    cv2.imwrite('sobelx.jpg', sobelx_abs)\n",
    "    cv2.imwrite('sobely.jpg', sobely_abs)\n",
    "    cv2.imwrite('magnitude.jpg', magnitude)\n",
    "    # (Q4) nms\n",
    "    print('Performing NMS..')\n",
    "    nms_mag = non_max_suppression(magnitude, orientation)\n",
    "    # DEBUG\n",
    "    # print(magnitude[35:40, 35:40])\n",
    "    # print(orientation[35:40, 35:40])\n",
    "    # print(nms_mag[35:40, 35:40])\n",
    "    # finally threshold\n",
    "    # somewhat a little bit better\n",
    "    print('Double Thresholding..')\n",
    "    nms_th = threshold(nms_mag, 0.40, 0.90, 75, 255)\n",
    "    print('Hysteresis as the final step..')\n",
    "    nms_th = hysteresis(nms_th, 75, 255)\n",
    "    cv2.imwrite('orientation.jpg', orientation)\n",
    "    cv2.imwrite('magnitude_nms.jpg', nms_mag)\n",
    "    cv2.imwrite('magnitude_th.jpg', nms_th)\n",
    "    # this bad\n",
    "    # ret, nms_th2 = cv2.threshold(nms_mag, 200, 255, cv2.THRESH_BINARY)\n",
    "\n",
    "if __name__ == '__main__':\n",
    "    main(IMAGE_PATH)"
   ]
  }
 ],
 "metadata": {
  "kernelspec": {
   "display_name": "candy",
   "language": "python",
   "name": "python3"
  },
  "language_info": {
   "codemirror_mode": {
    "name": "ipython",
    "version": 3
   },
   "file_extension": ".py",
   "mimetype": "text/x-python",
   "name": "python",
   "nbconvert_exporter": "python",
   "pygments_lexer": "ipython3",
   "version": "3.9.16"
  }
 },
 "nbformat": 4,
 "nbformat_minor": 2
}
